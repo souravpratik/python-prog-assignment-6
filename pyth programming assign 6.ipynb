{
 "cells": [
  {
   "cell_type": "markdown",
   "id": "4d701898",
   "metadata": {},
   "source": [
    "#  PROGRAMMING ASSIGNMENT 6:\n"
   ]
  },
  {
   "cell_type": "code",
   "execution_count": 1,
   "id": "aaa02c57",
   "metadata": {},
   "outputs": [],
   "source": [
    "#QUESTION 1: Write a Python Program to Display Fibonacci Sequence Using Recursion?\n",
    "\n",
    "def fibo(i):\n",
    "    if i==0:\n",
    "        return(i)\n",
    "    elif i==1:\n",
    "        return(i)\n",
    "    else:\n",
    "        return(fibo(i-2)+fibo(i-1))\n",
    "    "
   ]
  },
  {
   "cell_type": "code",
   "execution_count": 2,
   "id": "ebff7e90",
   "metadata": {},
   "outputs": [
    {
     "data": {
      "text/plain": [
       "5"
      ]
     },
     "execution_count": 2,
     "metadata": {},
     "output_type": "execute_result"
    }
   ],
   "source": [
    "fibo(5)"
   ]
  },
  {
   "cell_type": "code",
   "execution_count": 6,
   "id": "9b01daa4",
   "metadata": {},
   "outputs": [
    {
     "name": "stdout",
     "output_type": "stream",
     "text": [
      "0\n",
      "1\n",
      "1\n",
      "2\n",
      "3\n",
      "5\n",
      "8\n",
      "13\n",
      "21\n",
      "34\n"
     ]
    }
   ],
   "source": [
    "for x in range(10):\n",
    "    print (fibo(x))"
   ]
  },
  {
   "cell_type": "code",
   "execution_count": 6,
   "id": "37f41754",
   "metadata": {},
   "outputs": [],
   "source": [
    "#QUESTION 2: Write a Python Program to Find Factorial of Number Using Recursion?\n",
    "\n",
    "def fact(i):\n",
    "    if i==1:\n",
    "        return(i)\n",
    "    else:\n",
    "        return(i*fact(i-1))\n",
    "    \n"
   ]
  },
  {
   "cell_type": "code",
   "execution_count": 7,
   "id": "b8768c00",
   "metadata": {},
   "outputs": [
    {
     "data": {
      "text/plain": [
       "120"
      ]
     },
     "execution_count": 7,
     "metadata": {},
     "output_type": "execute_result"
    }
   ],
   "source": [
    "fact(5)"
   ]
  },
  {
   "cell_type": "code",
   "execution_count": 18,
   "id": "ecfdb238",
   "metadata": {},
   "outputs": [],
   "source": [
    "#QUESTION 3: Write a Python Program to calculate your Body Mass Index?\n",
    "\n",
    "def BMI():\n",
    "    w=int(input(\"enter your body weight(kg): \"))\n",
    "    h=float(input(\"enter your body height(m): \"))\n",
    "    bmi=((w)/(h**2))\n",
    "    return(bmi,\"kg/m^2\")"
   ]
  },
  {
   "cell_type": "code",
   "execution_count": 19,
   "id": "c30da0d3",
   "metadata": {},
   "outputs": [
    {
     "name": "stdout",
     "output_type": "stream",
     "text": [
      "enter your body weight(kg): 72\n",
      "enter your body height(m): 1.75\n"
     ]
    },
    {
     "data": {
      "text/plain": [
       "(23.510204081632654, 'kg/m^2')"
      ]
     },
     "execution_count": 19,
     "metadata": {},
     "output_type": "execute_result"
    }
   ],
   "source": [
    "BMI()"
   ]
  },
  {
   "cell_type": "code",
   "execution_count": 39,
   "id": "e86e4f09",
   "metadata": {},
   "outputs": [
    {
     "name": "stdout",
     "output_type": "stream",
     "text": [
      "enter no. to find natural log: 5\n",
      "natural log of 5 is : 1.6094379124341003\n"
     ]
    }
   ],
   "source": [
    "#QUESTION 4: Write a Python Program to calculate the natural logarithm of any number?\n",
    "a=int(input(\"enter no. to find natural log: \"))\n",
    "import math\n",
    "print(\"natural log of\",a,\"is :\", end=\" \")\n",
    "print(math.log(a))"
   ]
  },
  {
   "cell_type": "code",
   "execution_count": 14,
   "id": "1ac91e07",
   "metadata": {},
   "outputs": [],
   "source": [
    "#QUESTION 5: Write a Python Program for cube sum of first n natural numbers?\n",
    "\n",
    "def sum_natural(i):\n",
    "    if i==1:\n",
    "        return(i)\n",
    "    else:\n",
    "        return((i**3)+(sum_natural(i-1)))\n",
    "    \n",
    "    "
   ]
  },
  {
   "cell_type": "code",
   "execution_count": 19,
   "id": "95d06fb0",
   "metadata": {},
   "outputs": [
    {
     "data": {
      "text/plain": [
       "225"
      ]
     },
     "execution_count": 19,
     "metadata": {},
     "output_type": "execute_result"
    }
   ],
   "source": [
    "sum_natural(5)"
   ]
  },
  {
   "cell_type": "code",
   "execution_count": 20,
   "id": "071aadaa",
   "metadata": {},
   "outputs": [
    {
     "data": {
      "text/plain": [
       "3025"
      ]
     },
     "execution_count": 20,
     "metadata": {},
     "output_type": "execute_result"
    }
   ],
   "source": [
    "sum_natural(10)"
   ]
  },
  {
   "cell_type": "code",
   "execution_count": null,
   "id": "395bf03e",
   "metadata": {},
   "outputs": [],
   "source": []
  }
 ],
 "metadata": {
  "kernelspec": {
   "display_name": "Python 3 (ipykernel)",
   "language": "python",
   "name": "python3"
  },
  "language_info": {
   "codemirror_mode": {
    "name": "ipython",
    "version": 3
   },
   "file_extension": ".py",
   "mimetype": "text/x-python",
   "name": "python",
   "nbconvert_exporter": "python",
   "pygments_lexer": "ipython3",
   "version": "3.9.7"
  }
 },
 "nbformat": 4,
 "nbformat_minor": 5
}
